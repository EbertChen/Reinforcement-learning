{
  "nbformat": 4,
  "nbformat_minor": 0,
  "metadata": {
    "colab": {
      "provenance": []
    },
    "kernelspec": {
      "name": "python3",
      "display_name": "Python 3"
    }
  },
  "cells": [
    {
      "cell_type": "markdown",
      "metadata": {
        "id": "QTNU1mwGB1ZD"
      },
      "source": [
        "**Dependencies and setup**\n",
        "\n",
        "This can take a minute or so..."
      ]
    },
    {
      "cell_type": "code",
      "metadata": {
        "id": "rA38jtUgtZsG"
      },
      "source": [
        "%%capture\n",
        "# !apt update\n",
        "# !apt install xvfb -y\n",
        "# !pip install 'swig'\n",
        "# !pip install 'pyglet==1.5.27'\n",
        "# !pip install 'gym[box2d]==0.20.0'\n",
        "# !pip install 'pyvirtualdisplay==3.0'\n",
        "\n",
        "import gym\n",
        "import random\n",
        "import numpy as np\n",
        "import torch\n",
        "import torch.nn as nn\n",
        "import torch.nn.functional as F\n",
        "import torch.optim as optim\n",
        "import matplotlib.pyplot as plt\n",
        "import sys\n",
        "from pyvirtualdisplay import Display\n",
        "from IPython import display as disp\n",
        "%matplotlib inline\n",
        "\n",
        "display = Display(visible=0,size=(600,600))\n",
        "display.start()\n",
        "device = torch.device('cuda') if torch.cuda.is_available() else torch.device('cpu')\n",
        "\n",
        "plot_interval = 10 # update the plot every N episodes\n",
        "video_every = 100 # videos can take a very long time to render so only do it every N episodes"
      ],
      "execution_count": 3,
      "outputs": []
    },
    {
      "cell_type": "markdown",
      "metadata": {
        "id": "UJHtclV_30Re"
      },
      "source": [
        "**Reinforcement learning agent**\n",
        "\n",
        "Replace this with your own agent - I recommend starting with TD3 (lecture 8)"
      ]
    },
    {
      "cell_type": "code",
      "metadata": {
        "id": "4jXNHP8_U-rn"
      },
      "source": [
        "# class Agent(nn.Module):\n",
        "#     def __init__(self):\n",
        "#         super(Agent, self).__init__()\n",
        "\n",
        "#     def sample_action(self, s):\n",
        "#         return np.random.uniform(-1.0, 1.0, size=act_dim)\n",
        "\n",
        "#     def train(self):\n",
        "#         return"
      ],
      "execution_count": 2,
      "outputs": []
    },
    {
      "cell_type": "code",
      "source": [
        "import copy\n",
        "import numpy as np\n",
        "import torch\n",
        "import torch.nn as nn\n",
        "import torch.nn.functional as F\n",
        "from torch.distributions import Beta,Normal\n",
        "import math\n",
        "\n",
        "\n",
        "device = torch.device(\"cuda\" if torch.cuda.is_available() else \"cpu\")\n",
        "\n",
        "\n",
        "class Actor(nn.Module):\n",
        "\tdef __init__(self, state_dim, action_dim, net_width, maxaction):\n",
        "\t\tsuper(Actor, self).__init__()\n",
        "\n",
        "\t\tself.l1 = nn.Linear(state_dim, net_width)\n",
        "\t\tself.l2 = nn.Linear(net_width, net_width)\n",
        "\t\tself.l3 = nn.Linear(net_width, action_dim)\n",
        "\n",
        "\t\tself.maxaction = maxaction\n",
        "\n",
        "\tdef forward(self, state):\n",
        "\t\ta = torch.tanh(self.l1(state))\n",
        "\t\ta = torch.tanh(self.l2(a))\n",
        "\t\ta = torch.tanh(self.l3(a)) * self.maxaction\n",
        "\t\treturn a\n",
        "\n",
        "\n",
        "class Q_Critic(nn.Module):\n",
        "\tdef __init__(self, state_dim, action_dim, net_width):\n",
        "\t\tsuper(Q_Critic, self).__init__()\n",
        "\n",
        "\t\t# Q1 architecture\n",
        "\t\tself.l1 = nn.Linear(state_dim + action_dim, net_width)\n",
        "\t\tself.l2 = nn.Linear(net_width, net_width)\n",
        "\t\tself.l3 = nn.Linear(net_width, 1)\n",
        "\n",
        "\t\t# Q2 architecture\n",
        "\t\tself.l4 = nn.Linear(state_dim + action_dim, net_width)\n",
        "\t\tself.l5 = nn.Linear(net_width, net_width)\n",
        "\t\tself.l6 = nn.Linear(net_width, 1)\n",
        "\n",
        "\n",
        "\tdef forward(self, state, action):\n",
        "\t\tsa = torch.cat([state, action], 1)\n",
        "\n",
        "\t\tq1 = F.relu(self.l1(sa))\n",
        "\t\tq1 = F.relu(self.l2(q1))\n",
        "\t\tq1 = self.l3(q1)\n",
        "\n",
        "\t\tq2 = F.relu(self.l4(sa))\n",
        "\t\tq2 = F.relu(self.l5(q2))\n",
        "\t\tq2 = self.l6(q2)\n",
        "\t\treturn q1, q2\n",
        "\n",
        "\n",
        "\tdef Q1(self, state, action):\n",
        "\t\tsa = torch.cat([state, action], 1)\n",
        "\n",
        "\t\tq1 = F.relu(self.l1(sa))\n",
        "\t\tq1 = F.relu(self.l2(q1))\n",
        "\t\tq1 = self.l3(q1)\n",
        "\t\treturn q1\n",
        "\n",
        "\n",
        "\n",
        "class Agent(object):\n",
        "\tdef __init__(\n",
        "\t\tself,\n",
        "\t\tenv_with_Dead,\n",
        "\t\tstate_dim,\n",
        "\t\taction_dim,\n",
        "\t\tmax_action,\n",
        "\t\tgamma=0.99,\n",
        "\t\tnet_width=128,\n",
        "\t\ta_lr=1e-4,\n",
        "\t\tc_lr=1e-4,\n",
        "\t\tQ_batchsize = 256\n",
        "\t):\n",
        "\n",
        "\t\tself.actor = Actor(state_dim, action_dim, net_width, max_action).to(device)\n",
        "\t\tself.actor_optimizer = torch.optim.Adam(self.actor.parameters(), lr=a_lr)\n",
        "\t\tself.actor_target = copy.deepcopy(self.actor)\n",
        "\n",
        "\t\tself.q_critic = Q_Critic(state_dim, action_dim, net_width).to(device)\n",
        "\t\tself.q_critic_optimizer = torch.optim.Adam(self.q_critic.parameters(), lr=c_lr)\n",
        "\t\tself.q_critic_target = copy.deepcopy(self.q_critic)\n",
        "\n",
        "\t\tself.env_with_Dead = env_with_Dead\n",
        "\t\tself.action_dim = action_dim\n",
        "\t\tself.max_action = max_action\n",
        "\t\tself.gamma = gamma\n",
        "\t\tself.policy_noise = 0.2*max_action\n",
        "\t\tself.noise_clip = 0.5*max_action\n",
        "\t\tself.tau = 0.005\n",
        "\t\tself.Q_batchsize = Q_batchsize\n",
        "\t\tself.delay_counter = -1\n",
        "\t\tself.delay_freq = 1\n",
        "\n",
        "\tdef sample_action(self, state):#only used when interact with the env\n",
        "\t\twith torch.no_grad():\n",
        "\t\t\tstate = torch.FloatTensor(state.reshape(1, -1)).to(device)\n",
        "\t\t\ta = self.actor(state)\n",
        "\t\treturn a.cpu().numpy().flatten()\n",
        "\n",
        "\tdef train(self,replay_buffer):\n",
        "\t\tself.delay_counter += 1\n",
        "\t\twith torch.no_grad():\n",
        "\t\t\ts, a, r, s_prime, dead_mask = replay_buffer.sample(self.Q_batchsize)\n",
        "\t\t\tnoise = (torch.randn_like(a) * self.policy_noise).clamp(-self.noise_clip, self.noise_clip)\n",
        "\t\t\tsmoothed_target_a = (\n",
        "\t\t\t\t\tself.actor_target(s_prime) + noise  # Noisy on target action\n",
        "\t\t\t).clamp(-self.max_action, self.max_action)\n",
        "\n",
        "\t\t# Compute the target Q value\n",
        "\t\ttarget_Q1, target_Q2 = self.q_critic_target(s_prime, smoothed_target_a)\n",
        "\t\ttarget_Q = torch.min(target_Q1, target_Q2)\n",
        "\t\t'''DEAD OR NOT'''\n",
        "\t\tif self.env_with_Dead:\n",
        "\t\t\ttarget_Q = r + (1 - dead_mask) * self.gamma * target_Q  # env with dead\n",
        "\t\telse:\n",
        "\t\t\ttarget_Q = r + self.gamma * target_Q  # env without dead\n",
        "\n",
        "\n",
        "\t\t# Get current Q estimates\n",
        "\t\tcurrent_Q1, current_Q2 = self.q_critic(s, a)\n",
        "\n",
        "\t\t# Compute critic loss\n",
        "\t\tq_loss = F.mse_loss(current_Q1, target_Q) + F.mse_loss(current_Q2, target_Q)\n",
        "\n",
        "\t\t# Optimize the q_critic\n",
        "\t\tself.q_critic_optimizer.zero_grad()\n",
        "\t\tq_loss.backward()\n",
        "\t\tself.q_critic_optimizer.step()\n",
        "\n",
        "\t\tif self.delay_counter == self.delay_freq:\n",
        "\t\t\t# Update Actor\n",
        "\t\t\ta_loss = -self.q_critic.Q1(s,self.actor(s)).mean()\n",
        "\t\t\tself.actor_optimizer.zero_grad()\n",
        "\t\t\ta_loss.backward()\n",
        "\t\t\tself.actor_optimizer.step()\n",
        "\n",
        "\t\t\t# Update the frozen target models\n",
        "\t\t\tfor param, target_param in zip(self.q_critic.parameters(), self.q_critic_target.parameters()):\n",
        "\t\t\t\ttarget_param.data.copy_(self.tau * param.data + (1 - self.tau) * target_param.data)\n",
        "\n",
        "\t\t\tfor param, target_param in zip(self.actor.parameters(), self.actor_target.parameters()):\n",
        "\t\t\t\ttarget_param.data.copy_(self.tau * param.data + (1 - self.tau) * target_param.data)\n",
        "\n",
        "\t\t\tself.delay_counter = -1\n",
        "\n",
        "\n",
        "\tdef save(self,episode):\n",
        "\t\ttorch.save(self.actor.state_dict(), \"ppo_actor{}.pth\".format(episode))\n",
        "\t\ttorch.save(self.q_critic.state_dict(), \"ppo_q_critic{}.pth\".format(episode))\n",
        "\n",
        "\n",
        "\tdef load(self,episode):\n",
        "\n",
        "\t\tself.actor.load_state_dict(torch.load(\"ppo_actor{}.pth\".format(episode)))\n",
        "\t\tself.q_critic.load_state_dict(torch.load(\"ppo_q_critic{}.pth\".format(episode)))"
      ],
      "metadata": {
        "id": "EzO1zq0nj2Og"
      },
      "execution_count": 4,
      "outputs": []
    },
    {
      "cell_type": "markdown",
      "metadata": {
        "id": "QEv4ZjXmyrHo"
      },
      "source": [
        "**Prepare the environment and wrap it to capture videos**"
      ]
    },
    {
      "cell_type": "code",
      "metadata": {
        "id": "1Xrcek4hxDXl"
      },
      "source": [
        "%%capture\n",
        "# env = gym.make(\"BipedalWalker-v3\")\n",
        "env = gym.make(\"BipedalWalkerHardcore-v3\") # only attempt this when your agent has solved BipedalWalker-v3\n",
        "env = gym.wrappers.Monitor(env, \"./video_hard\", video_callable=lambda ep_id: ep_id%video_every == 0, force=True)\n",
        "\n",
        "obs_dim = env.observation_space.shape[0]\n",
        "act_dim = env.action_space.shape[0]"
      ],
      "execution_count": 5,
      "outputs": []
    },
    {
      "cell_type": "code",
      "metadata": {
        "colab": {
          "base_uri": "https://localhost:8080/"
        },
        "id": "FUw4h980jfnu",
        "outputId": "abaa838c-9177-482d-cba7-28725a73e25f"
      },
      "source": [
        "print('The environment has {} observations and the agent can take {} actions'.format(obs_dim, act_dim))\n",
        "print('The device is: {}'.format(device))\n",
        "\n",
        "if device.type != 'cpu': print('It\\'s recommended to train on the cpu for this')"
      ],
      "execution_count": 5,
      "outputs": [
        {
          "output_type": "stream",
          "name": "stdout",
          "text": [
            "The environment has 24 observations and the agent can take 4 actions\n",
            "The device is: cpu\n"
          ]
        }
      ]
    },
    {
      "cell_type": "code",
      "source": [
        "import numpy as np\n",
        "import torch\n",
        "\n",
        "\n",
        "class ReplayBuffer(object):\n",
        "\tdef __init__(self, state_dim, action_dim, max_size=int(1e6)):\n",
        "\t\tself.max_size = max_size\n",
        "\t\tself.ptr = 0\n",
        "\t\tself.size = 0\n",
        "\n",
        "\t\tself.state = np.zeros((max_size, state_dim))\n",
        "\t\tself.action = np.zeros((max_size, action_dim))\n",
        "\t\tself.reward = np.zeros((max_size, 1))\n",
        "\t\tself.next_state = np.zeros((max_size, state_dim))\n",
        "\t\tself.dead = np.zeros((max_size, 1))\n",
        "\n",
        "\t\tself.device = torch.device(\"cuda\" if torch.cuda.is_available() else \"cpu\")\n",
        "\n",
        "\n",
        "\tdef add(self, state, action, reward, next_state, dead):\n",
        "\t\tself.state[self.ptr] = state\n",
        "\t\tself.action[self.ptr] = action\n",
        "\t\tself.reward[self.ptr] = reward\n",
        "\t\tself.next_state[self.ptr] = next_state\n",
        "\t\tself.dead[self.ptr] = dead #0,0,0，...，1\n",
        "\n",
        "\t\tself.ptr = (self.ptr + 1) % self.max_size\n",
        "\t\tself.size = min(self.size + 1, self.max_size)\n",
        "\n",
        "\n",
        "\tdef sample(self, batch_size):\n",
        "\t\tind = np.random.randint(0, self.size, size=batch_size)\n",
        "\n",
        "\t\treturn (\n",
        "\t\t\ttorch.FloatTensor(self.state[ind]).to(self.device),\n",
        "\t\t\ttorch.FloatTensor(self.action[ind]).to(self.device),\n",
        "\t\t\ttorch.FloatTensor(self.reward[ind]).to(self.device),\n",
        "\t\t\ttorch.FloatTensor(self.next_state[ind]).to(self.device),\n",
        "\t\t\ttorch.FloatTensor(self.dead[ind]).to(self.device)\n",
        "\t\t)"
      ],
      "metadata": {
        "id": "9Ajqv7gHlwKA"
      },
      "execution_count": 6,
      "outputs": []
    },
    {
      "cell_type": "code",
      "metadata": {
        "colab": {
          "base_uri": "https://localhost:8080/",
          "height": 279
        },
        "id": "rDl6ViIDlVOk",
        "outputId": "577bbca5-fd8f-4e2c-8c80-9709f7b8f9a9"
      },
      "source": [
        "# in the submission please use seed 42 for verification\n",
        "seed = 42\n",
        "torch.manual_seed(seed)\n",
        "env.seed(seed)\n",
        "random.seed(seed)\n",
        "np.random.seed(seed)\n",
        "env.action_space.seed(seed)\n",
        "\n",
        "# logging variables\n",
        "ep_reward = 0\n",
        "reward_list = []\n",
        "plot_data = []\n",
        "log_f = open(\"agent-log.txt\",\"w+\")\n",
        "\n",
        "env_with_Dead = True\n",
        "max_action = float(env.action_space.high[0])\n",
        "kwargs = { \n",
        "    \"env_with_Dead\":env_with_Dead,\n",
        "    \"state_dim\": obs_dim,\n",
        "    \"action_dim\": act_dim,\n",
        "    \"max_action\": max_action,\n",
        "    \"gamma\": 0.99,\n",
        "    \"net_width\": 300,\n",
        "    \"a_lr\": 5e-4,\n",
        "    \"c_lr\": 5e-4,\n",
        "    \"Q_batchsize\":256}\n",
        "# initialise agent\n",
        "agent = Agent(**kwargs)\n",
        "replay_buffer = ReplayBuffer(obs_dim, act_dim, max_size=int(1e6))\n",
        "max_episodes = 1500\n",
        "max_timesteps = 2000\n",
        "save_interval = 500\n",
        "render = False\n",
        "# load = True\n",
        "# ModelIdex = 100\n",
        "# if load: agent.load(ModelIdex)\n",
        "# training procedure:\n",
        "for episode in range(1, max_episodes+1):\n",
        "    state, done = env.reset(), False\n",
        "    # for t in range(max_timesteps):\n",
        "    while not done:\n",
        "      if render:\n",
        "        action = agent.sample_action(state)\n",
        "        next_state, reward, done, _ = env.step(action)\n",
        "        env.render()\n",
        "      else:\n",
        "        # select the agent action\n",
        "        action = agent.sample_action(state)\n",
        "\n",
        "        # take action in environment and get r and s'\n",
        "        next_state, reward, done, _ = env.step(action)\n",
        "        \n",
        "        if reward <= -100:\n",
        "            reward = -1\n",
        "            replay_buffer.add(state, action, reward, next_state, True)\n",
        "        else:\n",
        "            replay_buffer.add(state, action, reward, next_state, False)\n",
        "\n",
        "        if replay_buffer.size > 2000: agent.train(replay_buffer)\n",
        "\n",
        "        # stop iterating when the episode finished\n",
        "        if done:\n",
        "          break\n",
        "\n",
        "      state = next_state\n",
        "      ep_reward += reward\n",
        "    \n",
        "    if (episode+1)%save_interval==0:\n",
        "        agent.save(episode + 1)\n",
        "    \n",
        "    # append the episode reward to the reward list\n",
        "    reward_list.append(ep_reward)\n",
        "\n",
        "    # do NOT change this logging code - it is used for automated marking!\n",
        "    log_f.write('episode: {}, reward: {}\\n'.format(episode, ep_reward))\n",
        "    log_f.flush()\n",
        "    ep_reward = 0\n",
        "    \n",
        "    # print reward data every so often - add a graph like this in your report\n",
        "    if episode % plot_interval == 0:\n",
        "        plot_data.append([episode, np.array(reward_list).mean(), np.array(reward_list).std()])\n",
        "        reward_list = []\n",
        "        # plt.rcParams['figure.dpi'] = 100\n",
        "        plt.plot([x[0] for x in plot_data], [x[1] for x in plot_data], '-', color='tab:grey')\n",
        "        plt.fill_between([x[0] for x in plot_data], [x[1]-x[2] for x in plot_data], [x[1]+x[2] for x in plot_data], alpha=0.2, color='tab:grey')\n",
        "        plt.xlabel('Episode number')\n",
        "        plt.ylabel('Episode reward')\n",
        "        plt.show()\n",
        "        disp.clear_output(wait=True)\n",
        " \n"
      ],
      "execution_count": 7,
      "outputs": [
        {
          "output_type": "display_data",
          "data": {
            "text/plain": [
              "<Figure size 432x288 with 1 Axes>"
            ],
            "image/png": "[encoded data removed]"
          },
          "metadata": {
            "needs_background": "light"
          }
        }
      ]
    },
    {
      "cell_type": "code",
      "source": [
        "!zip -r /content/code.zip /content"
      ],
      "metadata": {
        "colab": {
          "base_uri": "https://localhost:8080/"
        },
        "id": "yrhlS9ayB2ft",
        "outputId": "9741e963-4565-4a7c-e7f7-938293fc6a7b"
      },
      "execution_count": 8,
      "outputs": [
        {
          "output_type": "stream",
          "name": "stdout",
          "text": [
            "  adding: content/ (stored 0%)\n",
            "  adding: content/.config/ (stored 0%)\n",
            "  adding: content/.config/gce (stored 0%)\n",
            "  adding: content/.config/active_config (stored 0%)\n",
            "  adding: content/.config/.last_opt_in_prompt.yaml (stored 0%)\n",
            "  adding: content/.config/configurations/ (stored 0%)\n",
            "  adding: content/.config/configurations/config_default (deflated 15%)\n",
            "  adding: content/.config/logs/ (stored 0%)\n",
            "  adding: content/.config/logs/2023.02.02/ (stored 0%)\n",
            "  adding: content/.config/logs/2023.02.02/14.39.58.825595.log (deflated 86%)\n",
            "  adding: content/.config/logs/2023.02.02/14.39.31.829528.log (deflated 58%)\n",
            "  adding: content/.config/logs/2023.02.02/14.39.06.001578.log (deflated 91%)\n",
            "  adding: content/.config/logs/2023.02.02/14.40.36.103035.log (deflated 56%)\n",
            "  adding: content/.config/logs/2023.02.02/14.40.07.359558.log (deflated 58%)\n",
            "  adding: content/.config/logs/2023.02.02/14.40.35.179271.log (deflated 57%)\n",
            "  adding: content/.config/.last_survey_prompt.yaml (stored 0%)\n",
            "  adding: content/.config/config_sentinel (stored 0%)\n",
            "  adding: content/.config/.last_update_check.json (deflated 25%)\n",
            "  adding: content/ppo_q_critic500.pth (deflated 7%)\n",
            "  adding: content/ppo_actor500.pth (deflated 7%)\n",
            "  adding: content/agent-log.txt (deflated 69%)\n",
            "  adding: content/ppo_q_critic1000.pth (deflated 7%)\n",
            "  adding: content/ppo_actor1000.pth (deflated 7%)\n",
            "  adding: content/video/ (stored 0%)\n",
            "  adding: content/video/openaigym.video.0.114.video000700.mp4 (deflated 41%)\n",
            "  adding: content/video/openaigym.video.0.114.video001200.mp4 (deflated 45%)\n",
            "  adding: content/video/openaigym.video.0.114.video001000.mp4 (deflated 45%)\n",
            "  adding: content/video/openaigym.video.0.114.video000900.mp4 (deflated 47%)\n",
            "  adding: content/video/openaigym.video.0.114.video000000.mp4 (deflated 46%)\n",
            "  adding: content/video/openaigym.video.0.114.video001300.meta.json (deflated 61%)\n",
            "  adding: content/video/openaigym.video.0.114.video000600.mp4 (deflated 37%)\n",
            "  adding: content/video/openaigym.video.0.114.video001300.mp4 (deflated 34%)\n",
            "  adding: content/video/openaigym.video.0.114.video000200.mp4 (deflated 37%)\n",
            "  adding: content/video/openaigym.video.0.114.video000400.mp4 (deflated 35%)\n",
            "  adding: content/video/openaigym.video.0.114.video000900.meta.json (deflated 61%)\n",
            "  adding: content/video/openaigym.video.0.114.video000100.meta.json (deflated 61%)\n",
            "  adding: content/video/openaigym.video.0.114.video000600.meta.json (deflated 61%)\n",
            "  adding: content/video/openaigym.video.0.114.video001100.meta.json (deflated 61%)\n",
            "  adding: content/video/openaigym.video.0.114.video001000.meta.json (deflated 61%)\n",
            "  adding: content/video/openaigym.video.0.114.video000300.meta.json (deflated 61%)\n",
            "  adding: content/video/openaigym.video.0.114.video001100.mp4 (deflated 45%)\n",
            "  adding: content/video/openaigym.video.0.114.video000400.meta.json (deflated 61%)\n",
            "  adding: content/video/openaigym.video.0.114.video000000.meta.json (deflated 61%)\n",
            "  adding: content/video/openaigym.video.0.114.video000300.mp4 (deflated 34%)\n",
            "  adding: content/video/openaigym.video.0.114.video000700.meta.json (deflated 61%)\n",
            "  adding: content/video/openaigym.video.0.114.video000500.mp4 (deflated 40%)\n",
            "  adding: content/video/openaigym.video.0.114.video000200.meta.json (deflated 61%)\n",
            "  adding: content/video/openaigym.video.0.114.video000800.mp4 (deflated 39%)\n",
            "  adding: content/video/openaigym.video.0.114.video000800.meta.json (deflated 61%)\n",
            "  adding: content/video/openaigym.video.0.114.video000500.meta.json (deflated 61%)\n",
            "  adding: content/video/openaigym.video.0.114.video001200.meta.json (deflated 61%)\n",
            "  adding: content/video/openaigym.video.0.114.video000100.mp4 (deflated 39%)\n",
            "  adding: content/sample_data/ (stored 0%)\n",
            "  adding: content/sample_data/anscombe.json (deflated 83%)\n",
            "  adding: content/sample_data/README.md (deflated 42%)\n",
            "  adding: content/sample_data/california_housing_test.csv (deflated 76%)\n",
            "  adding: content/sample_data/mnist_test.csv (deflated 88%)\n",
            "  adding: content/sample_data/mnist_train_small.csv (deflated 88%)\n",
            "  adding: content/sample_data/california_housing_train.csv (deflated 79%)\n"
          ]
        }
      ]
    },
    {
      "cell_type": "code",
      "source": [
        "from google.colab import files"
      ],
      "metadata": {
        "id": "swgNfOLaCFqt"
      },
      "execution_count": 10,
      "outputs": []
    },
    {
      "cell_type": "code",
      "source": [
        "files.download('/content/code.zip')"
      ],
      "metadata": {
        "colab": {
          "base_uri": "https://localhost:8080/",
          "height": 17
        },
        "id": "EILcXp6jCEZU",
        "outputId": "83e97697-e756-43c5-bdb5-ad1d323a33d8"
      },
      "execution_count": 12,
      "outputs": [
        {
          "output_type": "display_data",
          "data": {
            "text/plain": [
              "<IPython.core.display.Javascript object>"
            ],
            "application/javascript": [
              "\n",
              "    async function download(id, filename, size) {\n",
              "      if (!google.colab.kernel.accessAllowed) {\n",
              "        return;\n",
              "      }\n",
              "      const div = document.createElement('div');\n",
              "      const label = document.createElement('label');\n",
              "      label.textContent = `Downloading \"${filename}\": `;\n",
              "      div.appendChild(label);\n",
              "      const progress = document.createElement('progress');\n",
              "      progress.max = size;\n",
              "      div.appendChild(progress);\n",
              "      document.body.appendChild(div);\n",
              "\n",
              "      const buffers = [];\n",
              "      let downloaded = 0;\n",
              "\n",
              "      const channel = await google.colab.kernel.comms.open(id);\n",
              "      // Send a message to notify the kernel that we're ready.\n",
              "      channel.send({})\n",
              "\n",
              "      for await (const message of channel.messages) {\n",
              "        // Send a message to notify the kernel that we're ready.\n",
              "        channel.send({})\n",
              "        if (message.buffers) {\n",
              "          for (const buffer of message.buffers) {\n",
              "            buffers.push(buffer);\n",
              "            downloaded += buffer.byteLength;\n",
              "            progress.value = downloaded;\n",
              "          }\n",
              "        }\n",
              "      }\n",
              "      const blob = new Blob(buffers, {type: 'application/binary'});\n",
              "      const a = document.createElement('a');\n",
              "      a.href = window.URL.createObjectURL(blob);\n",
              "      a.download = filename;\n",
              "      div.appendChild(a);\n",
              "      a.click();\n",
              "      div.remove();\n",
              "    }\n",
              "  "
            ]
          },
          "metadata": {}
        },
        {
          "output_type": "display_data",
          "data": {
            "text/plain": [
              "<IPython.core.display.Javascript object>"
            ],
            "application/javascript": [
              "download(\"download_1b5754c2-dd8d-41a4-a54c-35f73a3a2c88\", \"code.zip\", 10980136)"
            ]
          },
          "metadata": {}
        }
      ]
    }
  ]
}